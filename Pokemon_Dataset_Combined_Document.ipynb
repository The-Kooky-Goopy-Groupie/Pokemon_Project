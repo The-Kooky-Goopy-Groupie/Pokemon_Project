{
 "cells": [
  {
   "cell_type": "code",
   "execution_count": null,
   "metadata": {},
   "outputs": [],
   "source": [
    "import numpy as np\n",
    "import pandas as pd\n",
    "import matplotlib.pyplot as plt\n",
    "import seaborn as sns"
   ]
  },
  {
   "cell_type": "code",
   "execution_count": null,
   "metadata": {},
   "outputs": [],
   "source": [
    "#Bring in the pokemons!\n",
    "Pokemon_master = pd.read_csv(\"/content/Pokemon Database.csv\" , header=0, index_col= 'Pokemon Id')"
   ]
  },
  {
   "cell_type": "code",
   "execution_count": null,
   "metadata": {},
   "outputs": [],
   "source": [
    "Pokemon_master.head(5) # get the best starter pokemon! "
   ]
  },
  {
   "cell_type": "code",
   "execution_count": null,
   "metadata": {},
   "outputs": [],
   "source": [
    "# Just A General Descirbe Function to test it out. \n",
    "Pokemon_master.describe()"
   ]
  },
  {
   "cell_type": "code",
   "execution_count": null,
   "metadata": {},
   "outputs": [],
   "source": [
    "Pokemon_master[\"Pokemon Name\",\"Alternate Form Name\"]  # Return all pokemon"
   ]
  },
  {
   "cell_type": "code",
   "execution_count": null,
   "metadata": {},
   "outputs": [],
   "source": [
    "# Returns the EV's of all pokemon\n",
    "Pokemon_master[[\"Pokedex Number\",\t\"Pokemon Name\", \"Alternate Form Name\", \"Health EV\",\t\"Attack EV\",\t\"Defense EV\", \"Special Defense EV\", \"Special Attack EV\", \"Speed EV\", \"EV Yield Total\"]]"
   ]
  },
  {
   "cell_type": "code",
   "execution_count": null,
   "metadata": {},
   "outputs": [],
   "source": [
    "# Return the stats of all pokemon \n",
    "Pokemon_master[[\"Pokedex Number\",\t\"Pokemon Name\", \"Alternate Form Name\", \"Health Stat\",\t\"Attack Stat\",\t\"Defense Stat\", \"Special Defense Stat\", \"Special Attack Stat\",\"Speed Stat\"]]"
   ]
  },
  {
   "cell_type": "code",
   "execution_count": null,
   "metadata": {},
   "outputs": [],
   "source": [
    "# Male Ration to Catch rate\n",
    "plt.title(\"Pokemon's\")\n",
    "\n",
    "\n",
    "p1 = Pokemon_master.groupby('Male Ratio')['Catch Rate'].mean()\n",
    "p1.plot.bar(x='Male Ratio', y='Catch Rate')"
   ]
  },
  {
   "cell_type": "code",
   "execution_count": null,
   "metadata": {},
   "outputs": [],
   "source": [
    "# Pokemons Main types to experince growth totals\n",
    "plt.title(\"Pokemon's\")\n",
    "\n",
    "\n",
    "p1 = Pokemon_master.groupby('Primary Type')['Experience Growth Total'].mean()\n",
    "p1.plot.bar(x='Primary Type', y='Experience Growth Total')"
   ]
  },
  {
   "cell_type": "code",
   "execution_count": null,
   "metadata": {},
   "outputs": [],
   "source": [
    "# Primary type of pokemon  to Happiness\n",
    "plt.title(\"Type to the Pokemon's Happiness\")\n",
    "\n",
    "\n",
    "p1 = Pokemon_master.groupby('Primary Type')['Base Happiness'].mean()\n",
    "p1.plot.bar(x='Sepceies Female Ratio', y='Base Happiness')"
   ]
  },
  {
   "cell_type": "code",
   "execution_count": null,
   "metadata": {},
   "outputs": [],
   "source": [
    "# Idea: Find the percentiles of numerical data, such as health stat\n",
    "series = pd.Series([10,20,30,40,50,60,70,80,90,100]) \n",
    "print(\"Series:\\n\", series)\n",
    "\n",
    "n = int(input(\"Input your desired percentile: \"))\n",
    "n = n/100\n",
    "\n",
    "percentile = series.quantile(n)\n",
    "print(\"The {} percentile of the series is: {}\".format(n*100, percentile))"
   ]
  },
  {
   "cell_type": "code",
   "execution_count": null,
   "metadata": {},
   "outputs": [],
   "source": [
    "Find_Pichu = Pokemon_master[Pokemon_master['Pokemon Name'] == '\"Pichu\"']\n",
    "Find_Pichu "
   ]
  },
  {
   "cell_type": "code",
   "execution_count": null,
   "metadata": {},
   "outputs": [],
   "source": [
    "# A function that allows you to grab specific pokemon\n",
    "def Whose_that_Pokemon():\n",
    "  pokemon_request = input('Put in a pokemons name Using \"\" around it. Example: \"Pikachu\" ')\n",
    "  x = Pokemon_master[Pokemon_master['Pokemon Name'] == pokemon_request]\n",
    "  return x \n",
    "Whose_that_Pokemon()"
   ]
  },
  {
   "cell_type": "code",
   "execution_count": null,
   "metadata": {},
   "outputs": [],
   "source": [
    "# Allows you to get a pokemons that have ability = to the input\n",
    "def Pokemon_Powers():\n",
    "  pokemon_request = input('Put in a pokemons ability \"\" around it. Example: \"Overgrow\" ')\n",
    "  x = Pokemon_master[(Pokemon_master['Primary Ability'] == pokemon_request) | (Pokemon_master['Secondary Ability'] == pokemon_request) |(Pokemon_master['Hidden Ability'] == pokemon_request) ]\n",
    "  return x[['Pokemon Name','Primary Ability', 'Secondary Ability', 'Hidden Ability']] \n",
    "Pokemon_Powers()"
   ]
  },
  {
   "cell_type": "code",
   "execution_count": null,
   "metadata": {},
   "outputs": [],
   "source": [
    "# Gives you a pokemon Based on type\n",
    "def Type_Pokemon():\n",
    "  pokemon_request = input('Put in a pokemons type using \"\" around it. Example: \"Grass\" ')\n",
    "  x = Pokemon_master[(Pokemon_master['Primary Type'] == pokemon_request) | (Pokemon_master['Secondary Type'] == pokemon_request)]\n",
    "  return x \n",
    "Type_Pokemon()"
   ]
  },
  {
   "cell_type": "code",
   "execution_count": null,
   "metadata": {},
   "outputs": [],
   "source": [
    "# Base stats of pokemon with mega evolutions\n",
    "Megas = pd.read_csv(\"/content/Pokemon Database.csv\" , header=0, index_col= 'Pokemon Id')\n",
    "Megas = Megas[Megas[\"Alternate Form Name\"] == '\"Mega\"']\n",
    "Megas[\"Pokemon\"] = Megas[\"Alternate Form Name\"] + \" \" + Megas[\"Pokemon Name\"]\n",
    "Megas = Megas[[\"Pokemon\", \"Health Stat\",    \"Attack Stat\",    \"Defense Stat\", \"Special Defense Stat\", \"Special Attack Stat\",\"Speed Stat\", \"Base Stat Total\"]]\n",
    "Megas"
   ]
  },
  {
   "cell_type": "code",
   "execution_count": null,
   "metadata": {},
   "outputs": [],
   "source": [
    "# Top 10 megas by base stat total\n",
    "TopTen = Megas.sort_values(\"Base Stat Total\", ascending=False).head(10)\n",
    "TopTen\n",
    "# Bar graph showing the 10 highest total base stats for mega pokemon\n",
    "p1 = TopTen.groupby('Pokemon')['Base Stat Total'].mean().sort_values()\n",
    "p1.plot.bar(x='Pokemon', y='Base Stat Total')"
   ]
  },
  {
   "cell_type": "code",
   "execution_count": null,
   "metadata": {},
   "outputs": [],
   "source": [
    "# Pokemons heights to pokemons weight\n",
    "plt.title(\"Pokemon's\")\n",
    "\n",
    "\n",
    "p1 = Pokemon_master.groupby('Pokemon Height')['Pokemon Weight'].mean()\n",
    "p1.plot(x='Pokemon Height', y='Pokemon Weight')"
   ]
  },
  {
   "cell_type": "code",
   "execution_count": null,
   "metadata": {},
   "outputs": [],
   "source": [
    "# Female Ratio to Catch rate\n",
    "plt.title(\"Pokemon's\")\n",
    "\n",
    "\n",
    "p1 = Pokemon_master.groupby('Female Ratio')['Catch Rate'].mean()\n",
    "p1.plot.bar(x='Female Ratio', y='Catch Rate')"
   ]
  },
  {
   "cell_type": "code",
   "execution_count": null,
   "metadata": {},
   "outputs": [],
   "source": [
    "# A Pokemon's Female Ratio to it's base Happiness\n",
    "plt.title(\"Gender Ratio Pokemon's Happiness\")\n",
    "\n",
    "\n",
    "p1 = Pokemon_master.groupby('Female Ratio')['Base Happiness'].mean()\n",
    "p1.plot.bar(x='Sepceies Female Ratio', y='Base Happiness')"
   ]
  },
  {
   "cell_type": "code",
   "execution_count": null,
   "metadata": {},
   "outputs": [],
   "source": [
    "# Female Ratio to Happiness\n",
    "plt.title(\"Gender Ratio Pokemon's Happiness\")\n",
    "\n",
    "\n",
    "p1 = Pokemon_master.groupby('Female Ratio')['Base Happiness'].mean()\n",
    "p1.plot.bar(x='Sepceies Female Ratio', y='Base Happiness')"
   ]
  },
  {
   "cell_type": "code",
   "execution_count": null,
   "metadata": {},
   "outputs": [],
   "source": [
    "# return all pokemon with EV at least 3 EVS in a stats\n",
    "Evtotal = Pokemon_master.loc[Pokemon_master['EV Yield Total']== 3]\n",
    "Evtotal[['Pokemon Name', 'EV Yield Total']].drop_duplicates()\n",
    "Evtotal"
   ]
  }
 ],
 "metadata": {
  "language_info": {
   "name": "python"
  },
  "orig_nbformat": 4
 },
 "nbformat": 4,
 "nbformat_minor": 2
}
